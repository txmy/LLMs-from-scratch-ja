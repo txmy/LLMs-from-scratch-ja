{
 "cells": [
  {
   "cell_type": "markdown",
   "metadata": {},
   "source": "<table style=\"width:100%\">\n<tr>\n<td style=\"vertical-align:middle; text-align:left;\">\n<font size=\"2\">\n<a href=\"http://mng.bz/orYv\">『スクラッチから大規模言語モデルを構築する』</a>（<a href=\"https://sebastianraschka.com\">Sebastian Raschka</a>著）の補助コード<br>\n<br>コードリポジトリ: <a href=\"https://github.com/rasbt/LLMs-from-scratch\">https://github.com/rasbt/LLMs-from-scratch</a>\n</font>\n</td>\n<td style=\"vertical-align:middle; text-align:left;\">\n<a href=\"http://mng.bz/orYv\"><img src=\"https://sebastianraschka.com/images/LLMs-from-scratch-images/cover-small.webp\" width=\"100px\"></a>\n</td>\n</tr>\n</table>"
  },
  {
   "cell_type": "markdown",
   "metadata": {},
   "source": "## 演習 A.1"
  },
  {
   "cell_type": "markdown",
   "metadata": {},
   "source": "このリポジトリの[Python設定のヒント](../../setup/01_optional-python-setup-preferences/README.md)ドキュメントには、Python環境を設定するための追加の推奨事項とヒントが含まれています。"
  },
  {
   "cell_type": "markdown",
   "metadata": {},
   "source": "## 演習 A.2"
  },
  {
   "cell_type": "markdown",
   "metadata": {},
   "source": "[本書で使用するライブラリのインストールドキュメント](../../setup/02_installing-python-libraries/README.md)と[ディレクトリ](../../setup/02_installing-python-libraries/)には、環境が正しく設定されているかどうかを確認するためのユーティリティが含まれています。"
  },
  {
   "cell_type": "markdown",
   "metadata": {},
   "source": "## 演習 A.3"
  },
  {
   "cell_type": "code",
   "execution_count": null,
   "metadata": {},
   "outputs": [],
   "source": "import torch\n\nclass NeuralNetwork(torch.nn.Module):\n    def __init__(self, num_inputs, num_outputs):\n        super().__init__()\n\n        self.layers = torch.nn.Sequential(\n                \n            # 第1隠れ層\n            torch.nn.Linear(num_inputs, 30),\n            torch.nn.ReLU(),\n\n            # 第2隠れ層\n            torch.nn.Linear(30, 20),\n            torch.nn.ReLU(),\n\n            # 出力層\n            torch.nn.Linear(20, num_outputs),\n        )\n\n    def forward(self, x):\n        logits = self.layers(x)\n        return logits"
  },
  {
   "cell_type": "code",
   "execution_count": null,
   "metadata": {},
   "outputs": [],
   "source": "model = NeuralNetwork(2, 2)\n\nnum_params = sum(p.numel() for p in model.parameters() if p.requires_grad)\nprint(\"学習可能なモデルパラメータの総数:\", num_params)"
  },
  {
   "cell_type": "markdown",
   "metadata": {},
   "source": "## 演習 A.4"
  },
  {
   "cell_type": "code",
   "execution_count": 1,
   "metadata": {
    "id": "qGgnamiyLJxp"
   },
   "outputs": [],
   "source": [
    "import torch\n",
    "\n",
    "a = torch.rand(100, 200)\n",
    "b = torch.rand(200, 300)"
   ]
  },
  {
   "cell_type": "code",
   "execution_count": 2,
   "metadata": {
    "colab": {
     "base_uri": "https://localhost:8080/"
    },
    "id": "CvGvIeVkLzXE",
    "outputId": "44d027be-0787-4348-9c06-4e559d94d0e1"
   },
   "outputs": [
    {
     "name": "stdout",
     "output_type": "stream",
     "text": [
      "63.8 µs ± 8.7 µs per loop (mean ± std. dev. of 7 runs, 10000 loops each)\n"
     ]
    }
   ],
   "source": [
    "%timeit a @ b"
   ]
  },
  {
   "cell_type": "code",
   "execution_count": 3,
   "metadata": {
    "id": "OmRtZLa9L2ZG"
   },
   "outputs": [],
   "source": [
    "a, b = a.to(\"cuda\"), b.to(\"cuda\")"
   ]
  },
  {
   "cell_type": "code",
   "execution_count": 4,
   "metadata": {
    "colab": {
     "base_uri": "https://localhost:8080/"
    },
    "id": "duLEhXDPL6k0",
    "outputId": "3486471d-fd62-446f-9855-2d01f41fd101"
   },
   "outputs": [
    {
     "name": "stdout",
     "output_type": "stream",
     "text": [
      "13.8 µs ± 425 ns per loop (mean ± std. dev. of 7 runs, 100000 loops each)\n"
     ]
    }
   ],
   "source": [
    "%timeit a @ b"
   ]
  }
 ],
 "metadata": {
  "accelerator": "GPU",
  "colab": {
   "gpuType": "V100",
   "machine_shape": "hm",
   "provenance": []
  },
  "kernelspec": {
   "display_name": "Python 3 (ipykernel)",
   "language": "python",
   "name": "python3"
  },
  "language_info": {
   "codemirror_mode": {
    "name": "ipython",
    "version": 3
   },
   "file_extension": ".py",
   "mimetype": "text/x-python",
   "name": "python",
   "nbconvert_exporter": "python",
   "pygments_lexer": "ipython3",
   "version": "3.10.6"
  }
 },
 "nbformat": 4,
 "nbformat_minor": 4
}