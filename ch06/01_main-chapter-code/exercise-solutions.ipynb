{
 "cells": [
  {
   "cell_type": "markdown",
   "id": "ba450fb1-8a26-4894-ab7a-5d7bfefe90ce",
   "metadata": {},
   "source": "<table style=\"width:100%\">\n<tr>\n<td style=\"vertical-align:middle; text-align:left;\">\n<font size=\"2\">\n<a href=\"http://mng.bz/orYv\">Build a Large Language Model From Scratch</a>（大規模言語モデルをスクラッチから構築）書籍の補足コード<br>\n著者：<a href=\"https://sebastianraschka.com\">Sebastian Raschka</a><br>\n<br>コードリポジトリ：<a href=\"https://github.com/rasbt/LLMs-from-scratch\">https://github.com/rasbt/LLMs-from-scratch</a>\n</font>\n</td>\n<td style=\"vertical-align:middle; text-align:left;\">\n<a href=\"http://mng.bz/orYv\"><img src=\"https://sebastianraschka.com/images/LLMs-from-scratch-images/cover-small.webp\" width=\"100px\"></a>\n</td>\n</tr>\n</table>"
  },
  {
   "cell_type": "markdown",
   "id": "51c9672d-8d0c-470d-ac2d-1271f8ec3f14",
   "metadata": {},
   "source": "# 第6章 演習の解答"
  },
  {
   "cell_type": "markdown",
   "id": "5fea8be3-30a1-4623-a6d7-b095c6c1092e",
   "metadata": {},
   "source": "## 演習 6.1：コンテキスト長の増加"
  },
  {
   "cell_type": "markdown",
   "id": "5860ba9f-2db3-4480-b96b-4be1c68981eb",
   "metadata": {},
   "source": "max_lengthを1024に設定することで、モデルがサポートする最大トークン数まで入力をパディングできます：\n\n```python\nmax_length = 1024\n\ntrain_dataset = SpamDataset(base_path / \"train.csv\", max_length=max_length, tokenizer=tokenizer)\nval_dataset = SpamDataset(base_path / \"validation.csv\", max_length=max_length, tokenizer=tokenizer)\ntest_dataset = SpamDataset(base_path / \"test.csv\", max_length=max_length, tokenizer=tokenizer)\n```\n\nまたは、同等に、以下を介して`max_length`を定義できます：\n\n```python\nmax_length = model.pos_emb.weight.shape[0]\n```\n\nまたは\n\n```python\nmax_length = BASE_CONFIG[\"context_length\"]\n```"
  },
  {
   "cell_type": "markdown",
   "id": "2b0f4d5d-17fd-4265-93d8-ea08a22fdaf8",
   "metadata": {},
   "source": "便宜上、\n\n```bash\npython additional-experiments.py --context_length \"model_context_length\"\n```\n\nを使用してこの実験を実行できます。[../02_bonus_additional-experiments](../02_bonus_additional-experiments)フォルダのコードを使用すると、テスト精度が78.33%（メイン章の95.67%と比較して）と大幅に悪くなります。"
  },
  {
   "cell_type": "markdown",
   "id": "5a780455-f52a-48d1-ab82-6afd40bcad8b",
   "metadata": {},
   "source": "## 演習 6.2：モデル全体のファインチューニング"
  },
  {
   "cell_type": "markdown",
   "id": "56aa5208-aa29-4165-a0ec-7480754e2a18",
   "metadata": {},
   "source": "最終的なトランスフォーマーブロックのみをファインチューニングする代わりに、コードから以下の行を削除することでモデル全体をファインチューニングできます：\n\n```python\nfor param in model.parameters():\n    param.requires_grad = False\n```\n\n便宜上、\n\n```bash\npython additional-experiments.py --trainable_layers all\n```\n\nを使用してこの実験を実行できます。[../02_bonus_additional-experiments](../02_bonus_additional-experiments)フォルダのコードを使用すると、テスト精度が96.67%（メイン章の95.67%と比較して）と1%改善されます。"
  },
  {
   "cell_type": "markdown",
   "id": "2269bce3-f2b5-4a76-a692-5977c75a57b6",
   "metadata": {},
   "source": "## 演習 6.3：最初のトークンと最後のトークンのファインチューニング"
  },
  {
   "cell_type": "markdown",
   "id": "7418a629-51b6-4aa2-83b7-bc0261bc370f",
   "metadata": {},
   "source": "最後の出力トークンをファインチューニングする代わりに、以下を\n\n```python\nmodel(input_batch)[:, -1, :]\n```\n\n```python\nmodel(input_batch)[:, 0, :]\n```\n\nに変更することで、コード内のすべての箇所で最初の出力トークンをファインチューニングできます。\n\n便宜上、\n\n```\npython additional-experiments.py --trainable_token first\n```\n\nを使用してこの実験を実行できます。[../02_bonus_additional-experiments](../02_bonus_additional-experiments)フォルダのコードを使用すると、テスト精度が75.00%（メイン章の95.67%と比較して）と大幅に悪くなります。"
  }
 ],
 "metadata": {
  "kernelspec": {
   "display_name": "Python 3 (ipykernel)",
   "language": "python",
   "name": "python3"
  },
  "language_info": {
   "codemirror_mode": {
    "name": "ipython",
    "version": 3
   },
   "file_extension": ".py",
   "mimetype": "text/x-python",
   "name": "python",
   "nbconvert_exporter": "python",
   "pygments_lexer": "ipython3",
   "version": "3.10.11"
  }
 },
 "nbformat": 4,
 "nbformat_minor": 5
}